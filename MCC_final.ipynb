{
 "cells": [
  {
   "cell_type": "code",
   "execution_count": 12,
   "id": "2c8dfd7b",
   "metadata": {},
   "outputs": [],
   "source": [
    "import os\n",
    "import torch\n",
    "import numpy as np\n",
    "import matplotlib.pyplot as plt\n",
    "from tqdm import tqdm\n",
    "import torch.nn as nn\n",
    "import torch.optim as optim\n",
    "import torchvision.models as models\n",
    "from torch.utils.data import DataLoader, TensorDataset\n",
    "from sklearn.model_selection import train_test_split\n",
    "import cv2\n",
    "from sklearn.neighbors import NearestNeighbors\n",
    "from sklearn.model_selection import StratifiedShuffleSplit\n",
    "from sklearn.metrics import accuracy_score, f1_score"
   ]
  },
  {
   "cell_type": "code",
   "execution_count": 2,
   "id": "d5e0de2b",
   "metadata": {},
   "outputs": [
    {
     "name": "stdout",
     "output_type": "stream",
     "text": [
      "cuda\n"
     ]
    }
   ],
   "source": [
    "device='cuda' if torch.cuda.is_available() else 'cpu'\n",
    "print(device)"
   ]
  },
  {
   "cell_type": "code",
   "execution_count": 3,
   "id": "6684af7a",
   "metadata": {},
   "outputs": [],
   "source": [
    "def preprocess_image(image, target_size):\n",
    "    image = cv2.resize(image, target_size)\n",
    "    image = image.astype(np.float32) / 255.0\n",
    "    mean = np.array([0.485, 0.456, 0.406])     # Channel-wise normalization (ImageNet statistics)\n",
    "    std = np.array([0.229, 0.224, 0.225])\n",
    "    image = (image - mean) / std\n",
    "\n",
    "    image = np.transpose(image, (2, 0, 1))     # Convert HWC → CHW format\n",
    "    return image"
   ]
  },
  {
   "cell_type": "code",
   "execution_count": 4,
   "id": "9f750faa",
   "metadata": {},
   "outputs": [],
   "source": [
    "dataset_dir = 'Datasets/OPTIMAL-31_MCC'\n",
    "target_size = (256, 256)\n",
    "\n",
    "class_labels = sorted(os.listdir(dataset_dir))\n",
    "label_map = {cls_name: idx for idx, cls_name in enumerate(class_labels)}\n",
    "\n",
    "images = []\n",
    "labels = []\n",
    "\n",
    "for class_name in class_labels:\n",
    "    class_path = os.path.join(dataset_dir, class_name)\n",
    "    if not os.path.isdir(class_path):\n",
    "        continue\n",
    "    for filename in os.listdir(class_path):\n",
    "        img_path = os.path.join(class_path, filename)\n",
    "        image = cv2.imread(img_path, cv2.IMREAD_UNCHANGED)\n",
    "\n",
    "        if image is None:\n",
    "            continue\n",
    "\n",
    "        image = cv2.cvtColor(image, cv2.COLOR_BGR2RGB)\n",
    "        image = preprocess_image(image, target_size)\n",
    "\n",
    "        images.append(image)\n",
    "        label_vector = np.eye(len(class_labels), dtype=np.float32)[label_map[class_name]]\n",
    "        labels.append(label_vector)\n",
    "\n",
    "# Convert lists to NumPy arrays\n",
    "all_images = np.array(images, dtype=np.float32)\n",
    "all_labels = np.array(labels, dtype=np.float32)"
   ]
  },
  {
   "cell_type": "code",
   "execution_count": 5,
   "id": "c6ebe0bc",
   "metadata": {},
   "outputs": [],
   "source": [
    "labeled_ratio = 0.25\n",
    "test_ratio = 0.2"
   ]
  },
  {
   "cell_type": "code",
   "execution_count": 14,
   "id": "2d84eddf",
   "metadata": {},
   "outputs": [],
   "source": [
    "num_samples = all_images.shape[0]\n",
    "num_classes = all_labels.shape[1]\n",
    "\n",
    "# Split into train, validation, and test sets\n",
    "train_images, test_images, train_labels, test_labels = train_test_split(\n",
    "    all_images, all_labels, test_size=test_ratio, random_state=42,\n",
    "    stratify=np.argmax(all_labels, axis=1)\n",
    ")\n",
    "\n",
    "# Further split training data into labeled and unlabeled\n",
    "labeled_images, unlabeled_images, labeled_images_labels, _ = train_test_split(\n",
    "    train_images, train_labels, train_size=labeled_ratio, random_state=42,\n",
    "    stratify=np.argmax(train_labels, axis=1)\n",
    ")"
   ]
  },
  {
   "cell_type": "code",
   "execution_count": 15,
   "id": "2e3708a0",
   "metadata": {},
   "outputs": [
    {
     "name": "stdout",
     "output_type": "stream",
     "text": [
      "Training: 1488, Testing: 372\n",
      "Labeled: 372, Unlabeled: 1116\n"
     ]
    }
   ],
   "source": [
    "print(f\"Training: {len(train_images)}, Testing: {len(test_images)}\")\n",
    "print(f\"Labeled: {len(labeled_images)}, Unlabeled: {len(unlabeled_images)}\")"
   ]
  },
  {
   "cell_type": "code",
   "execution_count": 16,
   "id": "72edc261",
   "metadata": {},
   "outputs": [],
   "source": [
    "def extract_features(images, feature_extractor, batch_size=128):\n",
    "    feature_extractor.eval() # Disables dropout and batch normalization updates\n",
    "    feature_extractor = feature_extractor.to(device)\n",
    "\n",
    "    # Convert images to PyTorch tensors\n",
    "    image_tensors = torch.FloatTensor(images)\n",
    "    dataset = TensorDataset(image_tensors)\n",
    "    dataloader = DataLoader(dataset, batch_size, shuffle=False)\n",
    "\n",
    "    features = []\n",
    "    with torch.no_grad():  # Disable gradient computation to save memory\n",
    "        for batch in dataloader:\n",
    "            batch_images = batch[0].to(device)\n",
    "            batch_features = feature_extractor(batch_images)\n",
    "\n",
    "            # Handle both 4D and 2D feature tensors\n",
    "            if batch_features.dim() == 4:  # 4D tensor (batch_size, feature_dim, 1, 1)\n",
    "                # Flatten the feature tensor from (batch_size, feature_dim, 1, 1) to (batch_size, feature_dim)\n",
    "                batch_features = batch_features.view(batch_features.size(0), -1)\n",
    "            elif batch_features.dim() == 2:  # 2D tensor (batch_size, feature_dim)\n",
    "                pass  # No need to reshape\n",
    "\n",
    "            # Move features to CPU and convert to NumPy array\n",
    "            features.append(batch_features.cpu().numpy())\n",
    "    return np.vstack(features)  # Combine all batches into a single NumPy array"
   ]
  },
  {
   "cell_type": "code",
   "execution_count": 17,
   "id": "b0c5e89f",
   "metadata": {},
   "outputs": [],
   "source": [
    "model_resnet50 = models.resnet50(weights=models.ResNet50_Weights.IMAGENET1K_V1)\n",
    "model_resnet50.fc = nn.Linear(model_resnet50.fc.in_features, num_classes)\n",
    "\n",
    "# model_efficientnet_b2 = models.efficientnet_b2(weights=models.EfficientNet_B2_Weights.IMAGENET1K_V1)\n",
    "# model_efficientnet_b2.classifier[1] = nn.Linear(model_efficientnet_b2.classifier[1].in_features, num_classes)"
   ]
  },
  {
   "cell_type": "code",
   "execution_count": 20,
   "id": "7eb3f0d7",
   "metadata": {},
   "outputs": [
    {
     "name": "stdout",
     "output_type": "stream",
     "text": [
      "Image tensor shape: torch.Size([372, 3, 256, 256])\n"
     ]
    }
   ],
   "source": [
    "# model = model_efficientnet_b2.to(device)\n",
    "model=model_resnet50.to(device)\n",
    "\n",
    "if labeled_images_labels.ndim == 2:\n",
    "    labeled_images_labels = np.argmax(labeled_images_labels, axis=1)\n",
    "\n",
    "train_dataset = TensorDataset(\n",
    "    torch.tensor(labeled_images).float(),\n",
    "    torch.tensor(labeled_images_labels).long()  # Change to long for CrossEntropyLoss\n",
    ")\n",
    "    \n",
    "print(f\"Image tensor shape: {train_dataset.tensors[0].shape}\") # Shape: [N, 3, H, W]"
   ]
  },
  {
   "cell_type": "code",
   "execution_count": 22,
   "id": "298929f0",
   "metadata": {},
   "outputs": [
    {
     "name": "stdout",
     "output_type": "stream",
     "text": [
      "Epoch 1/20 loss: 3.0490\n",
      "Epoch 2/20 loss: 1.6443\n",
      "Epoch 3/20 loss: 0.7873\n",
      "Epoch 4/20 loss: 0.3251\n",
      "Epoch 5/20 loss: 0.1351\n",
      "Epoch 6/20 loss: 0.0718\n",
      "Epoch 7/20 loss: 0.0456\n",
      "Epoch 8/20 loss: 0.0374\n",
      "Epoch 9/20 loss: 0.0229\n",
      "Epoch 10/20 loss: 0.0230\n",
      "Epoch 11/20 loss: 0.0171\n",
      "Epoch 12/20 loss: 0.0211\n",
      "Epoch 13/20 loss: 0.0457\n",
      "Epoch 14/20 loss: 0.0198\n",
      "Epoch 15/20 loss: 0.0359\n",
      "Epoch 16/20 loss: 0.0646\n",
      "Epoch 17/20 loss: 0.0471\n",
      "Epoch 18/20 loss: 0.0521\n",
      "Epoch 19/20 loss: 0.0453\n",
      "Epoch 20/20 loss: 0.0298\n"
     ]
    },
    {
     "data": {
      "image/png": "[encoded data removed]",
      "text/plain": [
       "<Figure size 1000x500 with 1 Axes>"
      ]
     },
     "metadata": {},
     "output_type": "display_data"
    }
   ],
   "source": [
    "losses = []\n",
    "\n",
    "optimizer = optim.Adam(model.parameters(), lr=1e-4)\n",
    "criterion = nn.CrossEntropyLoss()  # Changed from BCEWithLogitsLoss to CrossEntropyLoss\n",
    "train_loader = DataLoader(train_dataset, batch_size=32, shuffle=True)\n",
    "\n",
    "epochs=20\n",
    "\n",
    "model.train()\n",
    "for epoch in range(epochs):\n",
    "    running_loss = 0.0\n",
    "    for inputs, labels in train_loader:\n",
    "        inputs, labels = inputs.to(device), labels.to(device)\n",
    "        optimizer.zero_grad()\n",
    "        outputs = model(inputs)\n",
    "        loss = criterion(outputs, labels)  # CrossEntropyLoss expects class indices, not one-hot\n",
    "        loss.backward()\n",
    "        optimizer.step()\n",
    "        running_loss += loss.item()\n",
    "\n",
    "    epoch_loss = running_loss / len(train_loader)\n",
    "    losses.append(epoch_loss)\n",
    "    print(f\"Epoch {epoch + 1}/{epochs} loss: {epoch_loss:.4f}\")\n",
    "\n",
    "feature_extractor = nn.Sequential(*list(model.children())[:-1])\n",
    "feature_extractor=feature_extractor.to(device)\n",
    "\n",
    "plt.figure(figsize=(10, 5))\n",
    "plt.plot(range(1, epochs+1), losses, marker='o', linestyle='-', color='b')\n",
    "plt.title('Training Loss Curve (Cross Entropy Loss)')\n",
    "plt.xlabel('Epoch')\n",
    "plt.ylabel('Loss')\n",
    "plt.xticks(range(1, epochs+1))\n",
    "plt.grid(True)\n",
    "plt.tight_layout()\n",
    "plt.show()"
   ]
  },
  {
   "cell_type": "code",
   "execution_count": 23,
   "id": "8cd7daa5",
   "metadata": {},
   "outputs": [
    {
     "name": "stdout",
     "output_type": "stream",
     "text": [
      "Labeled features shape: (372, 2048)\n",
      "Unlabeled features shape: (1116, 2048)\n",
      "Test features shape: (372, 2048)\n"
     ]
    }
   ],
   "source": [
    "labeled_images_features = extract_features(labeled_images, feature_extractor)\n",
    "unlabeled_images_features = extract_features(unlabeled_images, feature_extractor)\n",
    "test_images_features = extract_features(test_images, feature_extractor)\n",
    "\n",
    "print(f\"Labeled features shape: {labeled_images_features.shape}\")\n",
    "print(f\"Unlabeled features shape: {unlabeled_images_features.shape}\")\n",
    "print(f\"Test features shape: {test_images_features.shape}\")"
   ]
  },
  {
   "cell_type": "code",
   "execution_count": 24,
   "id": "72f8de18",
   "metadata": {},
   "outputs": [],
   "source": [
    "def calculate_variance(node_features, node_labels, w):\n",
    "    # Label Variance (only labeled data; ignore unlabeled with nan)\n",
    "    label_var = 0.0\n",
    "    labeled_mask = ~np.isnan(node_labels)  # Mask for labeled examples\n",
    "    if np.sum(labeled_mask) > 0:\n",
    "        # For multi-class classification, use entropy of class distribution\n",
    "        classes, counts = np.unique(node_labels[labeled_mask], return_counts=True)\n",
    "        probs = counts / counts.sum()\n",
    "        # Gini impurity for classification\n",
    "        label_var = 1 - np.sum(probs ** 2)\n",
    "    else:\n",
    "        label_var = 0  # No labeled data in this node\n",
    "\n",
    "    # Feature Variance (use all data)\n",
    "    feature_var = np.var(node_features, axis=0, ddof=0).mean()\n",
    "    return w * label_var + (1 - w) * feature_var"
   ]
  },
  {
   "cell_type": "code",
   "execution_count": 25,
   "id": "05992ddf",
   "metadata": {},
   "outputs": [],
   "source": [
    "def build_pct(X, y, depth=0, max_depth=5, min_samples_split=2, w=1, parent_prototype=None):\n",
    "    # Create a variable to store prototype for this node\n",
    "    node_prototype = None\n",
    "    \n",
    "    # Compute prototype using ONLY LABELED DATA\n",
    "    labeled_mask = ~np.isnan(y)\n",
    "    if np.sum(labeled_mask) > 0:\n",
    "        # For MCC, prototype is the most frequent class\n",
    "        classes, counts = np.unique(y[labeled_mask], return_counts=True)\n",
    "        node_prototype = classes[np.argmax(counts)]\n",
    "    elif parent_prototype is not None:\n",
    "        # If no labeled data but parent has prototype, inherit from parent\n",
    "        node_prototype = parent_prototype\n",
    "    else:\n",
    "        # If no labeled data and no parent prototype, use -1 to indicate unknown\n",
    "        node_prototype = -1\n",
    "    \n",
    "    if depth >= max_depth or len(y) < min_samples_split:\n",
    "        return {'type': 'leaf', 'prediction': node_prototype}\n",
    "\n",
    "    best_split = None\n",
    "    best_score = float('inf')\n",
    "    best_split_idx = None\n",
    "\n",
    "    n_features = X.shape[1]\n",
    "    feature_subset_size = max(1, int(np.sqrt(n_features)))\n",
    "    feature_indices = np.random.choice(n_features, feature_subset_size, replace=False)\n",
    "    \n",
    "    for feature_idx in feature_indices:\n",
    "        feature_values = X[:, feature_idx]\n",
    "        \n",
    "        if len(np.unique(feature_values)) > 10:\n",
    "            percentiles = np.percentile(feature_values, [25, 50, 75])\n",
    "            split_candidates = percentiles\n",
    "        else:\n",
    "            split_candidates = np.unique(feature_values)\n",
    "        \n",
    "        for split_val in split_candidates:\n",
    "            left_mask = feature_values <= split_val\n",
    "            right_mask = ~left_mask\n",
    "            \n",
    "            if np.sum(left_mask) < min_samples_split or np.sum(right_mask) < min_samples_split:\n",
    "                continue\n",
    "                \n",
    "            left_var = calculate_variance(X[left_mask], y[left_mask], w) * np.sum(left_mask)\n",
    "            right_var = calculate_variance(X[right_mask], y[right_mask], w) * np.sum(right_mask)\n",
    "            total_var = (left_var + right_var) / len(y)\n",
    "            \n",
    "            if total_var < best_score:\n",
    "                best_score = total_var\n",
    "                best_split = split_val\n",
    "                best_split_idx = feature_idx\n",
    "                \n",
    "    if best_split is None:\n",
    "        return {'type': 'leaf', 'prediction': node_prototype}\n",
    "        \n",
    "    left_mask = X[:, best_split_idx] <= best_split\n",
    "    right_mask = ~left_mask\n",
    "    \n",
    "    node = {\n",
    "        'type': 'node',\n",
    "        'feature_idx': best_split_idx,\n",
    "        'threshold': best_split,\n",
    "        'prototype': node_prototype,  # Store the prototype at each node\n",
    "        'left': build_pct(X[left_mask], y[left_mask], depth+1, max_depth, min_samples_split, w, node_prototype),\n",
    "        'right': build_pct(X[right_mask], y[right_mask], depth+1, max_depth, min_samples_split, w, node_prototype)\n",
    "    }\n",
    "    return node"
   ]
  },
  {
   "cell_type": "code",
   "execution_count": 26,
   "id": "6a402311",
   "metadata": {},
   "outputs": [],
   "source": [
    "def build_pct_forest(X, y, n_estimators, max_depth, w):\n",
    "    min_samples_split = 2\n",
    "    bootstrap = True\n",
    "    forest = []\n",
    "    n_samples = X.shape[0]\n",
    "\n",
    "    for _ in tqdm(range(n_estimators), desc=\"Building PCT Forest\"):\n",
    "        if bootstrap:\n",
    "            indices = np.random.choice(n_samples, n_samples, replace=True)\n",
    "            X_bootstrap = X[indices]\n",
    "            y_bootstrap = y[indices]\n",
    "        else:\n",
    "            X_bootstrap = X\n",
    "            y_bootstrap = y\n",
    "\n",
    "        tree = build_pct(X_bootstrap, y_bootstrap, max_depth=max_depth, min_samples_split=min_samples_split, w=w)\n",
    "        forest.append(tree)\n",
    "        \n",
    "    return forest"
   ]
  },
  {
   "cell_type": "code",
   "execution_count": 27,
   "id": "5b6bf52e",
   "metadata": {},
   "outputs": [],
   "source": [
    "def predict_pct(tree, X):\n",
    "    if not tree:\n",
    "        return np.full(X.shape[0], -1)  # Return unknown class\n",
    "\n",
    "    if tree['type'] == 'leaf':\n",
    "        predictions = np.full(X.shape[0], tree['prediction'])\n",
    "        # If any predictions are NaN, replace with parent prototype or -1\n",
    "        if tree['prediction'] == -1 and 'prototype' in tree:\n",
    "            predictions = np.full(X.shape[0], tree['prototype'])\n",
    "        return predictions\n",
    "\n",
    "    predictions = np.full(X.shape[0], -1)\n",
    "    left_mask = X[:, tree['feature_idx']] <= tree['threshold']\n",
    "    right_mask = ~left_mask\n",
    "\n",
    "    if np.any(left_mask):\n",
    "        predictions[left_mask] = predict_pct(tree['left'], X[left_mask])\n",
    "    if np.any(right_mask):\n",
    "        predictions[right_mask] = predict_pct(tree['right'], X[right_mask])\n",
    "\n",
    "    # Check for unknown predictions and replace with node's prototype\n",
    "    unknown_mask = predictions == -1\n",
    "    if np.any(unknown_mask) and 'prototype' in tree and tree['prototype'] != -1:\n",
    "        predictions[unknown_mask] = tree['prototype']\n",
    "\n",
    "    return predictions"
   ]
  },
  {
   "cell_type": "code",
   "execution_count": 28,
   "id": "7e098fa1",
   "metadata": {},
   "outputs": [],
   "source": [
    "def post_process_forest(forest, X_labeled, y_labeled):    \n",
    "    if len(X_labeled) == 0:\n",
    "        return forest\n",
    "    \n",
    "    # Build a nearest neighbors model on the labeled data\n",
    "    nn_model = NearestNeighbors(n_neighbors=1)\n",
    "    nn_model.fit(X_labeled)\n",
    "    \n",
    "    def fix_unknown_nodes(node):\n",
    "        if node is None or not isinstance(node, dict):\n",
    "            return\n",
    "            \n",
    "        # If this is a leaf node with unknown prediction\n",
    "        if node['type'] == 'leaf' and node['prediction'] == -1:\n",
    "            # Create a dummy example to find nearest labeled sample\n",
    "            dummy_X = np.zeros((1, X_labeled.shape[1]))\n",
    "            if 'sample_indices' in node and len(node['sample_indices']) > 0:\n",
    "                # If we stored sample indices, use the mean feature vector\n",
    "                dummy_X[0] = np.mean(X_labeled[node['sample_indices']], axis=0)\n",
    "                \n",
    "            # Find nearest labeled neighbor\n",
    "            distances, indices = nn_model.kneighbors(dummy_X)\n",
    "            node['prediction'] = y_labeled[indices[0][0]]\n",
    "            \n",
    "        # Recursively fix child nodes\n",
    "        if 'left' in node:\n",
    "            fix_unknown_nodes(node['left'])\n",
    "        if 'right' in node:\n",
    "            fix_unknown_nodes(node['right'])\n",
    "    \n",
    "    # Process each tree in the forest\n",
    "    for tree in forest:\n",
    "        fix_unknown_nodes(tree)\n",
    "        \n",
    "    return forest"
   ]
  },
  {
   "cell_type": "code",
   "execution_count": 29,
   "id": "961c5c5d",
   "metadata": {},
   "outputs": [],
   "source": [
    "def predict_pct_forest(forest, X, num_classes):\n",
    "    # Collect all tree predictions\n",
    "    tree_predictions = []\n",
    "    for tree in forest:\n",
    "        pred = predict_pct(tree, X)\n",
    "        tree_predictions.append(pred)\n",
    "    \n",
    "    tree_predictions = np.array(tree_predictions)\n",
    "    \n",
    "    # For each sample, find the most common class prediction (voting)\n",
    "    final_predictions = np.zeros(X.shape[0], dtype=int)\n",
    "    \n",
    "    for i in range(X.shape[0]):\n",
    "        sample_preds = tree_predictions[:, i]\n",
    "        classes, counts = np.unique(sample_preds, return_counts=True)\n",
    "        \n",
    "        # Handle case where all trees predict unknown (-1)\n",
    "        if len(classes) == 1 and classes[0] == -1:\n",
    "            final_predictions[i] = 0  # Default to class 0 if all unknown\n",
    "        else:\n",
    "            # Filter out unknown predictions for voting\n",
    "            valid_mask = sample_preds != -1\n",
    "            if np.any(valid_mask):\n",
    "                valid_preds = sample_preds[valid_mask]\n",
    "                classes, counts = np.unique(valid_preds, return_counts=True)\n",
    "                final_predictions[i] = classes[np.argmax(counts)]\n",
    "            else:\n",
    "                final_predictions[i] = 0  # Default to class 0\n",
    "    \n",
    "    # Convert predictions to one-hot format\n",
    "    one_hot_predictions = np.zeros((X.shape[0], num_classes))\n",
    "    for i in range(X.shape[0]):\n",
    "        if 0 <= final_predictions[i] < num_classes:  # Valid class\n",
    "            one_hot_predictions[i, final_predictions[i]] = 1\n",
    "    \n",
    "    return one_hot_predictions, final_predictions"
   ]
  },
  {
   "cell_type": "code",
   "execution_count": 30,
   "id": "da49a63e",
   "metadata": {},
   "outputs": [],
   "source": [
    "X_combined = np.vstack((labeled_images_features, unlabeled_images_features))\n",
    "y_combined = np.concatenate([labeled_images_labels, np.full(unlabeled_images_features.shape[0], np.nan)])\n",
    "X_labeled = labeled_images_features\n",
    "y_labeled = labeled_images_labels"
   ]
  },
  {
   "cell_type": "code",
   "execution_count": 41,
   "id": "7b41d624",
   "metadata": {},
   "outputs": [
    {
     "name": "stderr",
     "output_type": "stream",
     "text": [
      "Optimizing w: 100%|██████████| 11/11 [06:00<00:00, 32.74s/it]\n"
     ]
    },
    {
     "name": "stdout",
     "output_type": "stream",
     "text": [
      "Optimal w: 0.3\n"
     ]
    },
    {
     "data": {
      "image/png": "[encoded data removed]",
      "text/plain": [
       "<Figure size 800x500 with 1 Axes>"
      ]
     },
     "metadata": {},
     "output_type": "display_data"
    }
   ],
   "source": [
    "best_score = -np.inf\n",
    "best_w = 1.0\n",
    "\n",
    "w_values = []\n",
    "mean_scores = []\n",
    "\n",
    "for w in tqdm(np.arange(0, 1.1, 0.1), desc=\"Optimizing w\"):\n",
    "    fold_scores = []\n",
    "    \n",
    "    kf = StratifiedShuffleSplit(n_splits=3, test_size=0.3)\n",
    "    splits = kf.split(X_labeled, y_labeled)\n",
    "\n",
    "    for train_idx, val_idx in splits:\n",
    "        X_train, X_val = X_labeled[train_idx], X_labeled[val_idx]\n",
    "        y_train, y_val = y_labeled[train_idx], y_labeled[val_idx]\n",
    "\n",
    "        # Add unlabeled data with nan labels\n",
    "        X_train_full = np.vstack((X_train, unlabeled_images_features))\n",
    "        y_train_full = np.concatenate([y_train, np.full(unlabeled_images_features.shape[0], np.nan)])\n",
    "\n",
    "        # Build tree with current w\n",
    "        tree = build_pct(X_train_full, y_train_full, max_depth=5, w=w)\n",
    "\n",
    "        # Validate on labeled validation set\n",
    "        y_pred = predict_pct(tree, X_val)\n",
    "        # Use accuracy as the metric for multi-class classification\n",
    "        score = accuracy_score(y_val, y_pred)\n",
    "        fold_scores.append(score)\n",
    "\n",
    "    mean_score = np.mean(fold_scores)\n",
    "    w_values.append(w)\n",
    "    mean_scores.append(mean_score)\n",
    "\n",
    "    if mean_score > best_score:\n",
    "        best_score = mean_score\n",
    "        best_w = w\n",
    "\n",
    "print(f\"Optimal w: {best_w:.1f}\")\n",
    "\n",
    "plt.figure(figsize=(8, 5))\n",
    "plt.plot(w_values, mean_scores, marker='o', linestyle='-', color='b', label='Mean Accuracy Score')\n",
    "plt.axvline(best_w, color='r', linestyle='--', label=f'Best w = {best_w:.1f}')\n",
    "plt.xlabel('w')\n",
    "plt.ylabel('Mean Score (Accuracy)')\n",
    "plt.title('Optimization of w')\n",
    "plt.legend()\n",
    "plt.grid(True)\n",
    "plt.show()\n",
    "\n",
    "best_w=0.4  # Or use the value determined from the optimization"
   ]
  },
  {
   "cell_type": "code",
   "execution_count": 42,
   "id": "e7889f16",
   "metadata": {},
   "outputs": [
    {
     "name": "stderr",
     "output_type": "stream",
     "text": [
      "Building PCT Forest: 100%|██████████| 10/10 [05:16<00:00, 31.67s/it]\n"
     ]
    }
   ],
   "source": [
    "ssl_forest = build_pct_forest(\n",
    "    X_combined, \n",
    "    y_combined, \n",
    "    n_estimators=10,  # Increased for better performance in MCC\n",
    "    max_depth=10, \n",
    "    w=best_w\n",
    ")\n",
    "ssl_forest = post_process_forest(ssl_forest, labeled_images_features, labeled_images_labels)"
   ]
  },
  {
   "cell_type": "code",
   "execution_count": 54,
   "id": "c3dd7c27",
   "metadata": {},
   "outputs": [
    {
     "name": "stdout",
     "output_type": "stream",
     "text": [
      "\n",
      "Final Results:\n",
      "Accuracy: 0.7070\n",
      "F1 Score: 0.7117\n",
      "AUPRC: 0.5093\n"
     ]
    }
   ],
   "source": [
    "from sklearn.metrics import accuracy_score, f1_score, average_precision_score\n",
    "from sklearn.preprocessing import label_binarize\n",
    "\n",
    "one_hot_preds, class_preds = predict_pct_forest(ssl_forest, test_images_features, num_classes)\n",
    "\n",
    "# If test_labels was one-hot, it’s now class indices\n",
    "if test_labels.ndim == 2 and test_labels.shape[1] > 1:\n",
    "    test_labels = np.argmax(test_labels, axis=1)\n",
    "\n",
    "# Binarize labels for AUPRC\n",
    "test_labels_one_hot = label_binarize(test_labels, classes=np.arange(num_classes))\n",
    "\n",
    "# Calculate metrics\n",
    "accuracy = accuracy_score(test_labels, class_preds)\n",
    "f1_macro = f1_score(test_labels, class_preds, average='macro')\n",
    "f1_weighted = f1_score(test_labels, class_preds, average='weighted')\n",
    "\n",
    "# Calculate AUPRC\n",
    "auprc_macro = average_precision_score(test_labels_one_hot, one_hot_preds, average='macro')\n",
    "auprc_weighted = average_precision_score(test_labels_one_hot, one_hot_preds, average='weighted')\n",
    "auprc_micro = average_precision_score(test_labels_one_hot, one_hot_preds, average='micro')\n",
    "\n",
    "# Print results\n",
    "print(\"\\nFinal Results:\")\n",
    "print(f\"Accuracy: {accuracy:.4f}\")\n",
    "print(f\"F1 Score: {f1_macro:.4f}\")\n",
    "print(f\"AUPRC: {auprc_micro:.4f}\")\n"
   ]
  }
 ],
 "metadata": {
  "kernelspec": {
   "display_name": "ml",
   "language": "python",
   "name": "python3"
  },
  "language_info": {
   "codemirror_mode": {
    "name": "ipython",
    "version": 3
   },
   "file_extension": ".py",
   "mimetype": "text/x-python",
   "name": "python",
   "nbconvert_exporter": "python",
   "pygments_lexer": "ipython3",
   "version": "3.9.21"
  }
 },
 "nbformat": 4,
 "nbformat_minor": 5
}
